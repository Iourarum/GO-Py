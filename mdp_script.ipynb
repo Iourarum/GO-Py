{
 "cells": [
  {
   "cell_type": "code",
   "execution_count": 1,
   "metadata": {},
   "outputs": [],
   "source": [
    "import numpy as np\n",
    "import MDAnalysis as mda\n",
    "import os\n",
    "from numpy.linalg import norm\n",
    "from scipy.optimize import curve_fit\n",
    "from MDAnalysis.analysis.rms import rmsd\n",
    "from scipy import stats\n",
    "import math"
   ]
  },
  {
   "cell_type": "code",
   "execution_count": 2,
   "metadata": {},
   "outputs": [],
   "source": [
    "os.chdir('/run/media/smuraru/Tank1/GO/ss_o1/spions/mdps/')"
   ]
  },
  {
   "cell_type": "code",
   "execution_count": 3,
   "metadata": {},
   "outputs": [],
   "source": [
    "with open('md_2.mdp', mode='r') as mdp_file:\n",
    "    content = mdp_file.readlines()\n",
    "content = [x.strip() for x in content] "
   ]
  },
  {
   "cell_type": "code",
   "execution_count": 4,
   "metadata": {},
   "outputs": [
    {
     "data": {
      "text/plain": [
       "'energygrps               = sel_couple ssdna sel_ions'"
      ]
     },
     "execution_count": 4,
     "metadata": {},
     "output_type": "execute_result"
    }
   ],
   "source": [
    "content[60]"
   ]
  },
  {
   "cell_type": "code",
   "execution_count": 5,
   "metadata": {},
   "outputs": [],
   "source": [
    "os.chdir('/run/media/smuraru/Tank1/GO/ss_o1/')"
   ]
  },
  {
   "cell_type": "code",
   "execution_count": 6,
   "metadata": {},
   "outputs": [],
   "source": [
    "with open('le_special_ions_MG.ndx', mode='r') as ions_ndx:\n",
    "    tags = ions_ndx.readlines()\n",
    "corr_tags = [x[2:-3] for x in tags if (x[0:8] == '[ group_') ]\n",
    "# corr_tags = [x.strip() for x in tags if (x[0:7] == '[ group_') ]"
   ]
  },
  {
   "cell_type": "code",
   "execution_count": 7,
   "metadata": {},
   "outputs": [
    {
     "data": {
      "text/plain": [
       "'t0.000'"
      ]
     },
     "execution_count": 7,
     "metadata": {},
     "output_type": "execute_result"
    }
   ],
   "source": [
    "corr_tags[0][68:]"
   ]
  },
  {
   "cell_type": "code",
   "execution_count": 8,
   "metadata": {},
   "outputs": [],
   "source": [
    "plu = corr_tags[100].split(\"_\")"
   ]
  },
  {
   "cell_type": "code",
   "execution_count": 9,
   "metadata": {},
   "outputs": [
    {
     "data": {
      "text/plain": [
       "'t500.000'"
      ]
     },
     "execution_count": 9,
     "metadata": {},
     "output_type": "execute_result"
    }
   ],
   "source": [
    "plu[-1]"
   ]
  },
  {
   "cell_type": "code",
   "execution_count": 10,
   "metadata": {},
   "outputs": [],
   "source": [
    "os.chdir('/run/media/smuraru/Tank1/GO/ss_o1/spions/mdps/')"
   ]
  },
  {
   "cell_type": "code",
   "execution_count": 11,
   "metadata": {},
   "outputs": [],
   "source": [
    "for line in corr_tags:\n",
    "    content[60] = \"energygrps               = ssdna sel_couple \" + str(line)\n",
    "    with open('MG_special_ion_' + str(line.split(\"_\")[-1])+\".mdp\", mode='w') as ion_file:\n",
    "        for i in range(len(content)):\n",
    "            ion_file.write(content[i]+\"\\n\")\n",
    "        "
   ]
  },
  {
   "cell_type": "code",
   "execution_count": 12,
   "metadata": {},
   "outputs": [
    {
     "data": {
      "text/plain": [
       "['',\n",
       " '; VARIOUS PREPROCESSING OPTIONS',\n",
       " 'title                    = Production Simulation',\n",
       " 'cpp                      = /lib/cpp',\n",
       " '',\n",
       " '; RUN CONTROL PARAMETERS',\n",
       " 'define = -DPOSRES ; added recently, prev',\n",
       " 'integrator               = md',\n",
       " 'tinit                    = 0       ; Starting time',\n",
       " 'dt                       = 0.002   ; 2 femtosecond time step for integration',\n",
       " 'nsteps                   = 2500000        ; Make it 5 ns',\n",
       " '',\n",
       " '',\n",
       " '; OUTPUT CONTROL OPTIONS',\n",
       " 'nstxout                  = 2500 ; /Writing full precision coordinates every nanosecond',\n",
       " 'nstvout                  = 2500 ; /Writing velocities every nanosecond',\n",
       " 'nstfout                  = 2500 ;/ Not writing forces',\n",
       " 'nstlog                   = 2500 ; Writing to the log file every step',\n",
       " 'nstenergy                = 2500 ; Writing out energy information every step',\n",
       " 'nstxtcout                = 2500 ; Writing coordinates every 100 ps',\n",
       " '',\n",
       " '; NEIGHBORSEARCHING PARAMETERS',\n",
       " 'nstlist                  = 5',\n",
       " 'ns-type                  = Grid',\n",
       " 'pbc                      = xyz',\n",
       " 'rlist                    = 0.9',\n",
       " '',\n",
       " '; OPTIONS FOR ELECTROSTATICS AND VDW',\n",
       " 'coulombtype              = PME',\n",
       " 'pme_order\\t    = 4',\n",
       " 'fourierspacing\\t= 0.16',\n",
       " 'rcoulomb                 = 1.4',\n",
       " 'epsilon_rf               = 78',\n",
       " 'epsilon_r                = 1',\n",
       " 'vdw-type                 = Cut-off',\n",
       " 'rvdw                     = 1.4',\n",
       " 'refcoord_scaling    = com',\n",
       " '; Temperature coupling',\n",
       " 'Tcoupl                   = V-rescale',\n",
       " 'tc-grps                  = sel_couple  ssdna   SOL_and_ions',\n",
       " 'tau_t                    = 0.1      0.1   0.1',\n",
       " 'ref_t                    = 310      310   310',\n",
       " '; Pressure coupling',\n",
       " 'Pcoupl                   = Berendsen',\n",
       " 'Pcoupltype               = Isotropic',\n",
       " 'tau_p                    = 1.0',\n",
       " 'compressibility          = 4.5e-5',\n",
       " 'ref_p                    = 1.0',\n",
       " '',\n",
       " '; GENERATE VELOCITIES FOR STARTUP RUN',\n",
       " 'gen_vel                  = no',\n",
       " '',\n",
       " '; OPTIONS FOR BONDS',\n",
       " 'constraints              = all-bonds',\n",
       " 'constraint-algorithm     = Lincs',\n",
       " 'unconstrained-start      = yes',\n",
       " 'lincs-order              = 4',\n",
       " 'lincs-iter               = 1',\n",
       " 'lincs-warnangle          = 30',\n",
       " '',\n",
       " 'energygrps               = ssdna sel_couple group_287_and_within_1.4_of_group_284_and_within_1.4_of_group_37_f62865_t314325.000']"
      ]
     },
     "execution_count": 12,
     "metadata": {},
     "output_type": "execute_result"
    }
   ],
   "source": [
    "content"
   ]
  },
  {
   "cell_type": "code",
   "execution_count": null,
   "metadata": {},
   "outputs": [],
   "source": []
  }
 ],
 "metadata": {
  "kernelspec": {
   "display_name": "Python 3",
   "language": "python",
   "name": "python3"
  },
  "language_info": {
   "codemirror_mode": {
    "name": "ipython",
    "version": 3
   },
   "file_extension": ".py",
   "mimetype": "text/x-python",
   "name": "python",
   "nbconvert_exporter": "python",
   "pygments_lexer": "ipython3",
   "version": "3.6.7"
  }
 },
 "nbformat": 4,
 "nbformat_minor": 2
}
