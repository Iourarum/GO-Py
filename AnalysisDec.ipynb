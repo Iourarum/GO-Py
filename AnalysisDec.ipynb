{
 "cells": [
  {
   "cell_type": "code",
   "execution_count": 1,
   "metadata": {},
   "outputs": [],
   "source": [
    "import numpy as np\n",
    "import MDAnalysis as mda\n",
    "import os\n",
    "from numpy.linalg import norm\n",
    "from scipy.optimize import curve_fit\n",
    "from MDAnalysis.analysis.rms import rmsd\n",
    "#import matplotlib.pyplot as plt\n",
    "from scipy import stats\n",
    "import math\n",
    "#import seaborn\n",
    "import pandas as pd\n",
    "#import bokeh"
   ]
  },
  {
   "cell_type": "code",
   "execution_count": 2,
   "metadata": {},
   "outputs": [],
   "source": [
    "os.chdir('/run/media/smuraru/Tank1/GO/ss_o1/')"
   ]
  },
  {
   "cell_type": "code",
   "execution_count": 3,
   "metadata": {},
   "outputs": [],
   "source": [
    "u = mda.Universe('md_2.tpr', 'md_2.trr')"
   ]
  },
  {
   "cell_type": "code",
   "execution_count": 4,
   "metadata": {},
   "outputs": [],
   "source": [
    "#Selections\n",
    "sel_DNA_not_backbone = u.select_atoms('nucleic and not nucleicbackbone and not resname GGG')\n",
    "sel_DNA_backbone = u.select_atoms('nucleicbackbone and not resname GGG')\n",
    "sel_MG = u.select_atoms('name MG')\n",
    "sel_CL = u.select_atoms('name CL')"
   ]
  },
  {
   "cell_type": "code",
   "execution_count": null,
   "metadata": {},
   "outputs": [],
   "source": [
    "sel_DNA_backbone"
   ]
  },
  {
   "cell_type": "code",
   "execution_count": null,
   "metadata": {},
   "outputs": [],
   "source": [
    "sel_indep = {}\n",
    "for residue in sel_DNA_not_backbone.residues:\n",
    "    for resid in sel_DNA_not_backbone.resids:\n",
    "        if ( (str(residue)[9:-7] + ' ' + str(resid)) not in sel_indep):\n",
    "            sel_indep[str(residue)[9:-7] + ' ' + str(resid)] = sel_DNA_not_backbone.select_atoms('resname ' + str(residue)[9:-7] + ' and resid ' + str(resid))\n",
    "print(len(sel_indep))\n",
    "\n",
    "sel_indep_copy = sel_indep.copy()\n",
    "for key in sel_indep_copy.keys():\n",
    "        if (len(sel_indep_copy[key]) == 0):\n",
    "            sel_indep.pop(key)\n",
    "print(len(sel_indep))"
   ]
  },
  {
   "cell_type": "code",
   "execution_count": 5,
   "metadata": {},
   "outputs": [
    {
     "name": "stdout",
     "output_type": "stream",
     "text": [
      "72\n",
      "12\n"
     ]
    }
   ],
   "source": [
    "backbone_indep = {}\n",
    "for residue in sel_DNA_backbone.residues:\n",
    "    for resid in sel_DNA_not_backbone.resids:\n",
    "        if ((str(residue)[9:-7] + ' ' + str(resid)) not in backbone_indep):\n",
    "            backbone_indep[str(residue)[9:-7] + ' ' + str(resid)] = sel_DNA_backbone.select_atoms('resname ' + str(residue)[9:-7] + ' and resid ' + str(resid))\n",
    "print(len(backbone_indep))\n",
    "\n",
    "backbone_indep_copy = backbone_indep.copy()\n",
    "for key in backbone_indep_copy.keys():\n",
    "    if (len(backbone_indep_copy[key]) == 0):\n",
    "        backbone_indep.pop(key)\n",
    "print(len(backbone_indep))"
   ]
  },
  {
   "cell_type": "code",
   "execution_count": 6,
   "metadata": {},
   "outputs": [],
   "source": [
    "sel_CX = u.select_atoms('resname GGG') # or resname E1A or resname H1A or resname C1A or resname P1A')"
   ]
  },
  {
   "cell_type": "code",
   "execution_count": null,
   "metadata": {},
   "outputs": [],
   "source": [
    "sel_CX"
   ]
  },
  {
   "cell_type": "code",
   "execution_count": null,
   "metadata": {},
   "outputs": [],
   "source": [
    "sel_indep.keys()"
   ]
  },
  {
   "cell_type": "code",
   "execution_count": null,
   "metadata": {},
   "outputs": [],
   "source": [
    "backbone_indep.keys()"
   ]
  },
  {
   "cell_type": "code",
   "execution_count": 7,
   "metadata": {},
   "outputs": [],
   "source": [
    "CX_x = [sel_CX.positions[i][0] for i in range(len(sel_CX.positions))]\n",
    "CX_y = [sel_CX.positions[i][2] for i in range(len(sel_CX.positions))]\n",
    "CX_x2D = np.asarray(CX_x)\n",
    "CX_y2D = np.asarray(CX_y)\n",
    "slope_CX, intercept_CX, r_value_CX, p_value_CX, std_err_CX = stats.linregress(CX_x2D, CX_y2D)"
   ]
  },
  {
   "cell_type": "code",
   "execution_count": 8,
   "metadata": {},
   "outputs": [
    {
     "data": {
      "text/plain": [
       "25.931123395519926"
      ]
     },
     "execution_count": 8,
     "metadata": {},
     "output_type": "execute_result"
    }
   ],
   "source": [
    "intercept_CX"
   ]
  },
  {
   "cell_type": "code",
   "execution_count": null,
   "metadata": {},
   "outputs": [],
   "source": [
    "angle = {}\n",
    "x = {}\n",
    "y = {}\n",
    "dist = {}\n",
    "for key in sel_indep.keys():\n",
    "    angle[str(key)] = {}\n",
    "    x[key] = []\n",
    "    y[key] = []\n",
    "    dist[str(key)] = {}\n",
    "    print(\"key: \", key)\n",
    "    for frame in u.trajectory:\n",
    "        x[key] = [sel_indep[key].positions[i][0] for i in range(len(sel_indep[key].positions))]\n",
    "        y[key] = [sel_indep[key].positions[i][2] for i in range(len(sel_indep[key].positions))]\n",
    "        x2D = np.asarray(x[key])\n",
    "        y2D = np.asarray(y[key])\n",
    "        slope_DNA_base, intercept_DNA_base, r_value_DNA_base, p_value_DNA_base, std_err_DNA_base = stats.linregress(x2D, y2D)\n",
    "        common_x = float(intercept_DNA_base - intercept_CX) / (slope_CX - slope_DNA_base)\n",
    "        dist_DNA = math.sqrt((slope_DNA_base * common_x)**2 + common_x**2)\n",
    "        dist_CX = math.sqrt((slope_CX * common_x) + common_x**2)\n",
    "        dist_3 = abs(intercept_DNA_base - intercept_CX)\n",
    "        theta = np.arccos((dist_DNA**2 + dist_CX**2 - dist_3**2) / (2 * dist_DNA * dist_CX))\n",
    "        angle[str(key)][int(frame.frame)] = np.rad2deg(theta)\n",
    "        mobile = np.array([sel_indep[key].center_of_geometry()[2]])\n",
    "        ref = np.array([sel_CX.center_of_geometry()[2]])\n",
    "        dist[str(key)][int(frame.frame)] = rmsd(mobile, ref)"
   ]
  },
  {
   "cell_type": "code",
   "execution_count": null,
   "metadata": {},
   "outputs": [],
   "source": [
    "frame_x = np.asarray([int(str(frame.frame)) for frame in u.trajectory])\n",
    "for key in sel_indep.keys():\n",
    "    dist_array = np.asarray([dist[str(key)][int(frame.frame)] for frame in u.trajectory])\n",
    "    angle_array = np.asarray([angle[str(key)][int(frame.frame)] for frame in u.trajectory])\n",
    "    \n",
    "    fig1 = plt.figure()\n",
    "    fig1.suptitle('Angle formed by residue ' + str(key) + ' with the graphene molecule', fontsize=14, fontweight='bold')\n",
    "    plt.bar(frame_x, angle_array)\n",
    "   # fig1.set_xlabel('Frame')\n",
    "  #  fig1.set_ylabel('Degrees')\n",
    "    #plt.xticks(frame_x, str(frame_x))\n",
    "    plt.show()\n",
    "    \n",
    "    fig2 = plt.figure()\n",
    "    fig2.suptitle('Distance between residue ' + str(key) + ' and the graphene molecule', fontsize=14, fontweight = 'bold')\n",
    "    plt.plot(frame_x, dist_array)\n",
    "   # fig2.set_xlabel('Frame')\n",
    "    #fig2.set_ylabel('Distance (Å)')\n",
    "   # plt.xticks(frame_x, str(frame_x))\n",
    "    plt.show()\n",
    "    \n"
   ]
  },
  {
   "cell_type": "code",
   "execution_count": null,
   "metadata": {},
   "outputs": [],
   "source": [
    "for key in sel_indep.keys():\n",
    "    if (dist[str(key)][0]<=15 ):\n",
    "        print(\"Key: \", key, \" Dist: \", dist[str(key)][0], \" Angle: \", angle[str(key)][0])\n",
    "    else:\n",
    "        print(\"Not within adsorbtion: \", key, \" Dist: \", dist[str(key)][0], \" Angle: \", angle[str(key)][0])"
   ]
  },
  {
   "cell_type": "code",
   "execution_count": null,
   "metadata": {},
   "outputs": [],
   "source": [
    "for key in sel_indep.keys():\n",
    "    if (dist[str(key)][10]<=6 ):\n",
    "        print(\"Key: \", key, \" Angle: \", angle[str(key)][10])\n",
    "    else:\n",
    "        print(\"Not adsorbed: \", key, \" Dist: \", dist[str(key)][10], \" Angle: \", angle[str(key)][10])"
   ]
  },
  {
   "cell_type": "code",
   "execution_count": null,
   "metadata": {},
   "outputs": [],
   "source": [
    "backbone_adsorbed = backbone_indep.copy()\n",
    "for key in backbone_indep.keys():\n",
    "    if (str(key) != 'DC3 7901') and (str(key) != 'DG 7892') and (str(key) != 'DA 7895') and (str(key) != 'DA 7891') and (str(key) != 'DA 7890') and (str(key) != 'DA 7888') and (str(key) != 'DC 7897') and (str(key) != 'DT 7898') and (str(key) != 'DT 7896') and (str(key) != 'DT 7894') and (str(key) != 'DT 7889'):\n",
    "        backbone_adsorbed.pop(key)\n",
    "#backbone_adsorbed['DC 7899'] = backbone_indep['DC 7899']\n",
    "#backbone_adsorbed['DC 7900'] = backbone_indep['DC 7900']\n",
    "#backbone_adsorbed['DC3 7901'] = backbone_indep['DC3 7901']\n",
    "backbone_adsorbed.keys()"
   ]
  },
  {
   "cell_type": "code",
   "execution_count": null,
   "metadata": {},
   "outputs": [],
   "source": [
    "x_ad = {}\n",
    "y_ad = {}\n",
    "angle_ad = {}\n",
    "dist_ad = {}\n",
    "for frame in u.trajectory:\n",
    "    x_ad[int(frame.frame)] = []\n",
    "    y_ad[int(frame.frame)] = []\n",
    "    for key in backbone_adsorbed.keys():\n",
    "        for i in range(len(backbone_indep[key].positions)):\n",
    "            x_ad[int(frame.frame)].append(backbone_indep[key].positions[i][0])\n",
    "            y_ad[int(frame.frame)].append(backbone_indep[key].positions[i][2])\n",
    "  #      x_ad.append(float(backbone_indep[key].positions[i][0]) for i in range(len(backbone_indep[key].positions)))\n",
    "  #      y_ad.append(float(backbone_indep[key].positions[i][2]) for i in range(len(backbone_indep[key].positions)))\n",
    "    x2D_ad = np.asarray(x_ad[int(frame.frame)])\n",
    "    y2D_ad = np.asarray(y_ad[int(frame.frame)])\n",
    "    slope_backbone_ad, intercept_backbone_ad, r_value_backbone_ad, p_value_backbone_ad, std_err_backbone_ad = stats.linregress(x2D_ad, y2D_ad)\n",
    "    common_x_ad = float(intercept_backbone_ad - intercept_CX) / (slope_CX - slope_backbone_ad)\n",
    "    dist_backbone_ad = math.sqrt((slope_backbone_ad * common_x_ad)**2 + common_x_ad**2)\n",
    "    dist_CX = math.sqrt((slope_CX * common_x_ad) + common_x_ad**2)\n",
    "    dist_3_ad = abs(intercept_backbone_ad - intercept_CX)\n",
    "    theta_ad = np.arccos((dist_backbone_ad**2 + dist_CX**2 - dist_3_ad**2) / (2 * dist_backbone_ad * dist_CX))\n",
    "    angle_ad[int(frame.frame)] = np.rad2deg(theta_ad)\n",
    "    mobile_ad = np.array([(backbone_indep['DC 7899'] + backbone_indep['DG 7892'] + backbone_indep['DC3 7901']).center_of_geometry()[2]])\n",
    "    ref_ad = np.array([sel_CX.center_of_geometry()[2]])\n",
    "    dist_ad[int(frame.frame)] = rmsd(mobile_ad, ref_ad)"
   ]
  },
  {
   "cell_type": "code",
   "execution_count": null,
   "metadata": {},
   "outputs": [],
   "source": [
    "#for frame in u.trajectory:\n",
    "#    print((backbone_indep['DC3 7901'] + backbone_indep['DC 7900'] + backbone_indep['DA 7895'] + backbone_indep[] + backbone_indep[] + backbone_indep[] + backbone_indep[]).center_of_geometry()[2])"
   ]
  },
  {
   "cell_type": "code",
   "execution_count": null,
   "metadata": {},
   "outputs": [],
   "source": [
    "angle_ad"
   ]
  },
  {
   "cell_type": "code",
   "execution_count": null,
   "metadata": {},
   "outputs": [],
   "source": [
    "dist_ad"
   ]
  },
  {
   "cell_type": "code",
   "execution_count": null,
   "metadata": {},
   "outputs": [],
   "source": [
    "fig1 = plt.figure()\n",
    "fig1.suptitle('Angle formed by adsorbed backbone with the graphene molecule frame by frame', fontsize=14, fontweight='bold')\n",
    "plt.bar(frame_x, angle_ad.values())\n",
    "plt.show()\n",
    "    \n",
    "fig2 = plt.figure()\n",
    "fig2.suptitle('Distance between adsorbed backbone and the graphene molecule frame by frame', fontsize=14, fontweight = 'bold')\n",
    "plt.plot(frame_x, dist_ad.values())\n",
    "plt.show()\n",
    "    \n"
   ]
  },
  {
   "cell_type": "code",
   "execution_count": 9,
   "metadata": {},
   "outputs": [
    {
     "name": "stderr",
     "output_type": "stream",
     "text": [
      "/home/smuraru/Software/anaconda3/envs/MDA/lib/python3.6/site-packages/ipykernel_launcher.py:20: RuntimeWarning: invalid value encountered in arccos\n"
     ]
    }
   ],
   "source": [
    "x_bkb = {}\n",
    "y_bkb = {}\n",
    "angle_bkb = {}\n",
    "dist_bkb = {}\n",
    "for frame in u.trajectory:\n",
    "    x_bkb[int(frame.frame)] = []\n",
    "    y_bkb[int(frame.frame)] = []\n",
    "    for i in range(len(sel_DNA_backbone.positions)):\n",
    "        x_bkb[int(frame.frame)].append(sel_DNA_backbone.positions[i][0])\n",
    "        y_bkb[int(frame.frame)].append(sel_DNA_backbone.positions[i][2])\n",
    "  #      x_ad.append(float(backbone_indep[key].positions[i][0]) for i in range(len(backbone_indep[key].positions)))\n",
    "  #      y_ad.append(float(backbone_indep[key].positions[i][2]) for i in range(len(backbone_indep[key].positions)))\n",
    "    x2D_bkb = np.asarray(x_bkb[int(frame.frame)])\n",
    "    y2D_bkb = np.asarray(y_bkb[int(frame.frame)])\n",
    "    slope_backbone_bkb, intercept_backbone_bkb, r_value_backbone_bkb, p_value_backbone_bkb, std_err_backbone_bkb = stats.linregress(x2D_bkb, y2D_bkb)\n",
    "    common_x_bkb = float(intercept_backbone_bkb - intercept_CX) / (slope_CX - slope_backbone_bkb)\n",
    "    dist_backbone_bkb = math.sqrt((slope_backbone_bkb * common_x_bkb)**2 + common_x_bkb**2)\n",
    "    dist_CX = math.sqrt(abs((slope_CX * common_x_bkb) + common_x_bkb**2))\n",
    "    dist_3_bkb = abs(intercept_backbone_bkb - intercept_CX)\n",
    "    theta_bkb = np.arccos((dist_backbone_bkb**2 + dist_CX**2 - dist_3_bkb**2) / (2 * dist_backbone_bkb * dist_CX))\n",
    "    angle_bkb[int(frame.frame)] = np.rad2deg(theta_bkb)\n",
    "    mobile_bkb = np.array([sel_DNA_backbone.center_of_geometry()[2]])\n",
    "    ref_bkb = np.array([sel_CX.center_of_geometry()[2]])\n",
    "    dist_bkb[int(frame.frame)] = rmsd(mobile_bkb, ref_bkb)"
   ]
  },
  {
   "cell_type": "code",
   "execution_count": null,
   "metadata": {},
   "outputs": [],
   "source": [
    "(slope_CX * common_x_bkb) + common_x_bkb**2"
   ]
  },
  {
   "cell_type": "code",
   "execution_count": null,
   "metadata": {},
   "outputs": [],
   "source": [
    "frame_x = np.asarray([int(str(frame.frame)) for frame in u.trajectory])\n"
   ]
  },
  {
   "cell_type": "code",
   "execution_count": null,
   "metadata": {},
   "outputs": [],
   "source": [
    "import csv\n"
   ]
  },
  {
   "cell_type": "code",
   "execution_count": null,
   "metadata": {},
   "outputs": [],
   "source": [
    "\n",
    "\n",
    "with open('Distance2.csv', mode='w') as dist_file:\n",
    "    writer = csv.writer(dist_file, delimiter=' ', quotechar='\"', quoting=csv.QUOTE_MINIMAL)\n",
    "    for frame in u.trajectory:\n",
    "        writer.writerow([frame_x[int(frame.frame)], dist_bkb[int(frame.frame)]])\n",
    "        if (int(frame.frame) % 1000 == 0):\n",
    "            print(\"frame: \", int(frame.frame), \"out of \", len(u.trajectory))\n",
    "\n"
   ]
  },
  {
   "cell_type": "code",
   "execution_count": null,
   "metadata": {},
   "outputs": [],
   "source": [
    "with open('Angle2.csv', mode='w') as angle_file:\n",
    "    writer = csv.writer(angle_file, delimiter=',', quotechar='\"', quoting=csv.QUOTE_MINIMAL)\n",
    "    for frame in u.trajectory:\n",
    "        writer.writerow([frame_x[int(frame.frame)], angle_bkb[int(frame.frame)]])\n"
   ]
  },
  {
   "cell_type": "code",
   "execution_count": null,
   "metadata": {},
   "outputs": [],
   "source": [
    "angle_bkb"
   ]
  },
  {
   "cell_type": "code",
   "execution_count": 5,
   "metadata": {},
   "outputs": [],
   "source": [
    "filename = \"index_ions.ndx\"\n",
    "index_file = mda.selections.gromacs.SelectionWriter(filename, mode='w', numterms=None, preamble=None )\n",
    "index_file.write(sel_MG, number=None, name='MG', frame=None, mode=None)\n",
    "index_file.write(sel_CL, number=None, name='CL', frame=None, mode=None)\n",
    "index_file.close()\n",
    "\n"
   ]
  },
  {
   "cell_type": "code",
   "execution_count": null,
   "metadata": {},
   "outputs": [],
   "source": [
    "frame_x = np.asarray([int(str(frame.frame)) for frame in u.trajectory])\n",
    "\n",
    "fig1 = plt.figure()\n",
    "fig1.suptitle('Angle formed by ssDNA backbone with the graphene molecule frame by frame', fontsize=14, fontweight='bold')\n",
    "plt.bar(frame_x, angle_bkb.values())\n",
    "plt.show()\n",
    "    \n",
    "fig2 = plt.figure()\n",
    "fig2.suptitle('Distance between ssDNA backbone and the graphene molecule frame by frame', fontsize=14, fontweight = 'bold')\n",
    "plt.plot(frame_x, dist_bkb.values())\n",
    "plt.show()"
   ]
  },
  {
   "cell_type": "code",
   "execution_count": null,
   "metadata": {},
   "outputs": [],
   "source": []
  }
 ],
 "metadata": {
  "kernelspec": {
   "display_name": "Python 3",
   "language": "python",
   "name": "python3"
  },
  "language_info": {
   "codemirror_mode": {
    "name": "ipython",
    "version": 3
   },
   "file_extension": ".py",
   "mimetype": "text/x-python",
   "name": "python",
   "nbconvert_exporter": "python",
   "pygments_lexer": "ipython3",
   "version": "3.6.7"
  },
  "varInspector": {
   "cols": {
    "lenName": 16,
    "lenType": 16,
    "lenVar": 40
   },
   "kernels_config": {
    "python": {
     "delete_cmd_postfix": "",
     "delete_cmd_prefix": "del ",
     "library": "var_list.py",
     "varRefreshCmd": "print(var_dic_list())"
    },
    "r": {
     "delete_cmd_postfix": ") ",
     "delete_cmd_prefix": "rm(",
     "library": "var_list.r",
     "varRefreshCmd": "cat(var_dic_list()) "
    }
   },
   "types_to_exclude": [
    "module",
    "function",
    "builtin_function_or_method",
    "instance",
    "_Feature"
   ],
   "window_display": false
  }
 },
 "nbformat": 4,
 "nbformat_minor": 2
}
