{
 "cells": [
  {
   "cell_type": "code",
   "execution_count": null,
   "metadata": {},
   "outputs": [],
   "source": [
    "import numpy as np\n",
    "import MDAnalysis as mda\n",
    "import os\n",
    "from numpy.linalg import norm\n",
    "from scipy.optimize import curve_fit\n",
    "from MDAnalysis.analysis.rms import rmsd\n",
    "from scipy import stats\n",
    "import math\n",
    "import pandas as pd\n",
    "import scipy\n",
    "from sympy import Plane, Point3D\n",
    "from sympy.abc import x\n",
    "from sympy import N"
   ]
  },
  {
   "cell_type": "code",
   "execution_count": null,
   "metadata": {},
   "outputs": [],
   "source": [
    "os.chdir('/run/media/smuraru/Tank1/GO/ss_o1/')"
   ]
  },
  {
   "cell_type": "code",
   "execution_count": null,
   "metadata": {},
   "outputs": [],
   "source": [
    "u = mda.Universe('md_2.tpr', 'md_2.xtc')"
   ]
  },
  {
   "cell_type": "code",
   "execution_count": null,
   "metadata": {},
   "outputs": [],
   "source": [
    "sel_DNA = u.select_atoms('nucleic')\n",
    "sel_DNA_not_backbone = u.select_atoms('nucleic and not nucleicbackbone and not resname GGG')\n",
    "sel_DNA_backbone = u.select_atoms('nucleicbackbone and not resname GGG')\n",
    "sel_CX = u.select_atoms('resname GGG')"
   ]
  },
  {
   "cell_type": "code",
   "execution_count": null,
   "metadata": {},
   "outputs": [],
   "source": [
    "sel_rings = {}\n",
    "sel_rings[\"CX\"] = []\n",
    "sel_rings[\"DNA\"] = []\n",
    "\n",
    "def gbond_CX(atom):\n",
    "    gbonds = 0\n",
    "    for bond in atom.bonds:\n",
    "        if (bond[1].name == 'CX'):\n",
    "            gbonds += 1\n",
    "    return gbonds"
   ]
  },
  {
   "cell_type": "code",
   "execution_count": null,
   "metadata": {},
   "outputs": [],
   "source": [
    "for atom in sel_CX:\n",
    "    list_of_indexes = []\n",
    "    if (gbond_CX(atom) >= 2):\n",
    "        for bond in atom.bonds:\n",
    "            if(bond[1].name==\"CX\" and bond[0].name==\"CX\"):\n",
    "                if (bond[1] == atom):\n",
    "                    u1 = bond[0]\n",
    "                else:\n",
    "                    u1 = bond[1]\n",
    "                if ((gbond_CX(u1) >= 2)):\n",
    "                    \n",
    "                    for bond_2 in u1.bonds:\n",
    "                        if(bond_2[1].name==\"CX\" and bond_2[0].name==\"CX\"):\n",
    "                            if (bond_2[1] == u1):\n",
    "                                u2 = bond_2[0]\n",
    "                            else:\n",
    "                                u2 = bond_2[1]\n",
    "                            if ((gbond_CX(u2)>=2) and (u2 != atom)):\n",
    "                        \n",
    "                                for bond_3 in u2.bonds:\n",
    "                                    if(bond_3[1].name==\"CX\" and bond_3[0].name==\"CX\"):\n",
    "                                        if (bond_3[1] == u2):\n",
    "                                            u3 = bond_3[0]\n",
    "                                        else:\n",
    "                                            u3 = bond_3[1]\n",
    "                                        if ((gbond_CX(u3)>=2) and (u3!= u1)):\n",
    "                                            list_of_indexes.append((u3.index, u2.index, u1.index, atom.index))\n",
    "    for element in list_of_indexes:\n",
    "        for element2 in list_of_indexes:\n",
    "            if ((element[0] == element2[0]) and (element[1] != element2[1]) and (element[2]!=element2[2]) and (element[3] == element2[3])):\n",
    "                prototype = u.select_atoms(str(\" bynum \" + str(element[0]+1) + \" or bynum \" + str(element[1]+1) + \" or bynum \" + str(element[2]+1) + \" or bynum \" + str(element[3]+1) + \" or bynum \" + str(element2[1]+1) + \" or bynum \" + str(element2[2]+1)))\n",
    "                if prototype not in sel_rings[\"CX\"]:\n",
    "                    sel_rings[\"CX\"].append(prototype)"
   ]
  },
  {
   "cell_type": "code",
   "execution_count": null,
   "metadata": {},
   "outputs": [],
   "source": [
    "sel_rings[\"DNA\"] = {}\n",
    "for residue in sel_DNA.residues:\n",
    "    sel_rings[\"DNA\"][str(residue.resname)+\"_\"+str(residue.resid)] = []\n",
    "#     sel_rings[\"DNA\"][str(residue.resname)+\"_\"+str(residue.resid)].append(u.select_atoms('resname ' + str(residue.resname) + ' and resid ' + str(residue.resid) + \" and (name C3' or name C4' or name O4' or name C1' or name C2')\"))\n",
    "    sel_rings[\"DNA\"][str(residue.resname)+\"_\"+str(residue.resid)].append(u.select_atoms('resname ' + str(residue.resname) + ' and resid ' + str(residue.resid) + \" and (name N1 or name C2 or name N3 or name C4 or name C5 or name C6)\"))\n",
    "    if (len(u.select_atoms('resname ' + str(residue.resname) + ' and resid ' + str(residue.resid) + \" and (name C4 or name C5 or name N7 or name C8 or name N9)\")) == 5):\n",
    "        sel_rings[\"DNA\"][str(residue.resname)+\"_\"+str(residue.resid)].append(u.select_atoms('resname ' + str(residue.resname) + ' and resid ' + str(residue.resid) + \" and (name C4 or name C5 or name N7 or name C8 or name N9)\"))"
   ]
  },
  {
   "cell_type": "code",
   "execution_count": null,
   "metadata": {},
   "outputs": [],
   "source": [
    "# sel_rings[\"DNA\"]"
   ]
  },
  {
   "cell_type": "code",
   "execution_count": null,
   "metadata": {},
   "outputs": [],
   "source": [
    "selected = {}\n",
    "for frame in u.trajectory:\n",
    "    if (frame.frame % 100 == 0):\n",
    "        print(frame.frame)\n",
    "    selected[frame.frame] = {}\n",
    "    selected[frame.frame][\"DNA\"] = {}\n",
    "    for element in sel_rings[\"DNA\"]:\n",
    "        selected[frame.frame][\"DNA\"][element] = {}\n",
    "        for ring in range(len(sel_rings[\"DNA\"][element])):\n",
    "            selected[frame.frame][\"DNA\"][element][ring] = []\n",
    "            for ring2 in range(len(sel_rings[\"CX\"])):\n",
    "                if (scipy.spatial.distance.euclidean(sel_rings[\"DNA\"][element][ring].center_of_mass(), sel_rings[\"CX\"][ring2].center_of_mass()) <= 4.5):\n",
    "                    plane1 = Plane(sel_rings[\"DNA\"][element][ring].atoms.positions.tolist()[0], sel_rings[\"DNA\"][element][ring].atoms.positions.tolist()[1], sel_rings[\"DNA\"][element][ring].atoms.positions.tolist()[2])\n",
    "                    plane2 = Plane(sel_rings[\"CX\"][ring2].atoms.positions.tolist()[0], sel_rings[\"CX\"][ring2].atoms.positions.tolist()[1], sel_rings[\"CX\"][ring2].atoms.positions.tolist()[2])\n",
    "                    angle = plane1.angle_between(plane2)\n",
    "                    val = N(angle)\n",
    "                    calc = math.degrees(val)\n",
    "                    if ((0 <= calc <= 45) or (135 <= calc <= 180)):\n",
    "                        selected[frame.frame][\"DNA\"][element][ring].append(sel_rings[\"CX\"][0])\n",
    "    "
   ]
  },
  {
   "cell_type": "code",
   "execution_count": null,
   "metadata": {},
   "outputs": [],
   "source": [
    "sel_rings[\"CX\"][0]"
   ]
  },
  {
   "cell_type": "code",
   "execution_count": null,
   "metadata": {},
   "outputs": [],
   "source": [
    "inter_pi = {}\n",
    "for frame in u.trajectory:\n",
    "    inter_pi[frame.frame] = 0\n",
    "    for element in sel_rings[\"DNA\"]:\n",
    "        for ring in range(len(sel_rings[\"DNA\"][element])):\n",
    "            for ring2 in range(len(selected[frame.frame][\"DNA\"][element][ring])):\n",
    "                pair_distance = False\n",
    "                for atom in sel_rings[\"DNA\"][element][ring]:\n",
    "                    for atom2 in selected[frame.frame][\"DNA\"][element][ring][ring2]:\n",
    "                        ref = u.select_atoms(\"bynum \" + str(int(atom.index)+1))\n",
    "                        mob = u.select_atoms(\"bynum \" + str(int(atom2.index) + 1))\n",
    "                        distance = rmsd(ref.positions, mob.positions)\n",
    "                        if (distance <= 4):\n",
    "                            pair_distance = True\n",
    "                if (pair_distance == True):\n",
    "                    inter_pi[frame.frame][element] += 1\n",
    "            "
   ]
  },
  {
   "cell_type": "code",
   "execution_count": null,
   "metadata": {},
   "outputs": [],
   "source": [
    "sel_rings[\"DNA\"]"
   ]
  },
  {
   "cell_type": "code",
   "execution_count": null,
   "metadata": {},
   "outputs": [],
   "source": [
    "selected"
   ]
  },
  {
   "cell_type": "code",
   "execution_count": null,
   "metadata": {},
   "outputs": [],
   "source": [
    "# inter pi stacking (CX - DNA)\n",
    "inter_pi = {}\n",
    "checked = []\n",
    "for frame in u.trajectory:\n",
    "    if (frame.frame % 50 == 0):\n",
    "        print (frame.frame)\n",
    "    inter_pi[frame.frame] = 0\n",
    "    for element in sel_rings:\n",
    "        checked.append(element)\n",
    "        if (element != \"CX\"):\n",
    "            for ring in range(len(sel_rings[element])):\n",
    "                for second_ring in range(len(sel_frame[frame.frame])):\n",
    "                    if (scipy.spatial.distance.euclidean(sel_rings[element][ring].center_of_mass(), sel_rings[second_element][second_ring].center_of_mass()) <= 4.5):\n",
    "                        pair_distance = False\n",
    "                        for atom in sel_rings[element][ring]:\n",
    "                            for second_atom in sel_rings[second_element][second_ring]:\n",
    "                                ref = u.select_atoms(\"bynum \" + str(int(atom.index)+1) )\n",
    "                                mob = u.select_atoms(\"bynum \" + str(int(second_atom.index)+1))\n",
    "                                min_distance = rmsd(ref.positions, mob.positions)\n",
    "                                if (min_distance <= 4):\n",
    "                                    pair_distance = True\n",
    "                        if (pair_distance == True):\n",
    "                            inter_pi[element] += 1                           "
   ]
  },
  {
   "cell_type": "code",
   "execution_count": null,
   "metadata": {},
   "outputs": [],
   "source": [
    "# intra pi stacking (DNA-DNA)\n",
    "checked = []\n",
    "intra_pi = {}\n",
    "\n",
    "for frame in u.trajectory:\n",
    "    if (frame.frame % 1000 == 0):\n",
    "        print(frame.frame)\n",
    "    for element in sel_rings:\n",
    "        checked.append(element)\n",
    "        if (element != \"CX\"):\n",
    "            intra_pi[element] = 0\n",
    "            for ring in range(len(sel_rings[element])):\n",
    "                for second_element in sel_rings:\n",
    "                    min_dist = 0\n",
    "                    pair_distance = False\n",
    "                    if ((second_element != \"CX\") and (second_element != element) and (second_element not in checked)):\n",
    "#                     print(\"element: \", element, \" element2: \", second_element)\n",
    "#                     print(\"element2: \", second_element)\n",
    "                        for second_ring in range(len(sel_rings[second_element])):\n",
    "#                         distance = math.sqrt((sel_rings[element][ring].center_of_mass()[0] - sel_rings[second_element][second_ring].center_of_mass()[0])**2 + (sel_rings[element][ring].center_of_mass()[1] - sel_rings[second_element][second_ring].center_of_mass()[1])**2 + (sel_rings[element][ring].center_of_mass()[2] - sel_rings[second_element][second_ring].center_of_mass()[2])**2)\n",
    "                            if (scipy.spatial.distance.euclidean(sel_rings[element][ring].center_of_mass(), sel_rings[second_element][second_ring].center_of_mass()) <= 4.5):\n",
    "                                p1 = np.array(sel_rings[element][ring].center_of_geometry())\n",
    "                                p2 = np.array(sel_rings[element][ring].center_of_geometry())\n",
    "                                p3 = np.array(sel_rings[element][ring].center_of_geometry())\n",
    "                                p1_2 = np.array(sel_rings[second_element][second_ring].center_of_geometry())\n",
    "                                p2_2 = np.array(sel_rings[second_element][second_ring].center_of_geometry())\n",
    "                                p3_2 = np.array(sel_rings[second_element][second_ring].center_of_geometry())\n",
    "                                v1 = p3 - p1\n",
    "                                v2 = p2 - p1\n",
    "                                cp = np.cross(v1, v2)\n",
    "                                a, b, c = cp\n",
    "                                d = np.dot(cp, p3)\n",
    "#                             print(\"Cp = \", cp, \" d= \", d)\n",
    "                                pair_distance = False\n",
    "                                for atom in sel_rings[element][ring]:\n",
    "                                    for second_atom in sel_rings[second_element][second_ring]:\n",
    "                                        ref = u.select_atoms(\"bynum \" + str(int(atom.index)+1) )\n",
    "                                        mob = u.select_atoms(\"bynum \" + str(int(second_atom.index)+1))\n",
    "                                        min_distance = rmsd(ref.positions, mob.positions)\n",
    "                                   # if (scipy.sqrt((atom.position()[0] - second_atom.position()[0])**2 + (atom.position()[1] - second_atom.position()[1])**2 + (atom.position()[2] - second_atom.position()[2])**2) < 4):\n",
    "                                        if (min_distance <= 4):\n",
    "#                                         print(element, second_element, distance, min_distance)\n",
    "                                            pair_distance = True\n",
    "                            if (pair_distance == True):\n",
    "                                intra_pi[element] += 1\n",
    "                          #  print(element, ring, second_element, second_ring)\n",
    "                                    \n",
    "print(intra_pi)       \n",
    "        \n",
    "\n",
    "            \n",
    "    "
   ]
  },
  {
   "cell_type": "code",
   "execution_count": null,
   "metadata": {},
   "outputs": [],
   "source": [
    "selected[\"DNA\"][\"DC5_1231\"][0]"
   ]
  },
  {
   "cell_type": "code",
   "execution_count": null,
   "metadata": {},
   "outputs": [],
   "source": []
  },
  {
   "cell_type": "code",
   "execution_count": null,
   "metadata": {},
   "outputs": [],
   "source": [
    "for frame in u.trajectory:\n",
    "    for element in sel_rings:\n",
    "        "
   ]
  },
  {
   "cell_type": "code",
   "execution_count": null,
   "metadata": {},
   "outputs": [],
   "source": [
    "for frame in u.trajectory:\n",
    "    print(inter_pi[frame.frame])  "
   ]
  },
  {
   "cell_type": "code",
   "execution_count": null,
   "metadata": {},
   "outputs": [],
   "source": [
    "frame.frame"
   ]
  },
  {
   "cell_type": "code",
   "execution_count": null,
   "metadata": {},
   "outputs": [],
   "source": [
    "inter_pi"
   ]
  },
  {
   "cell_type": "code",
   "execution_count": null,
   "metadata": {},
   "outputs": [],
   "source": [
    "o = u.select_atoms(\"bynum 1\")\n",
    "o[0].index"
   ]
  },
  {
   "cell_type": "code",
   "execution_count": null,
   "metadata": {},
   "outputs": [],
   "source": []
  },
  {
   "cell_type": "code",
   "execution_count": null,
   "metadata": {},
   "outputs": [],
   "source": [
    "import csv\n"
   ]
  },
  {
   "cell_type": "code",
   "execution_count": null,
   "metadata": {},
   "outputs": [],
   "source": [
    "with open('pi_stacking.csv', mode='w') as dist_file:\n",
    "    writer = csv.writer(dist_file, delimiter=' ', quotechar='\"', quoting=csv.QUOTE_MINIMAL)\n",
    "    for frame in u.trajectory:\n",
    "        writer.writerow([frame_x[int(frame.frame)], dist_bkb[int(frame.frame)]])\n",
    "        if (int(frame.frame) % 1000 == 0):\n",
    "            print(\"frame: \", int(frame.frame), \"out of \", len(u.trajectory))"
   ]
  }
 ],
 "metadata": {
  "kernelspec": {
   "display_name": "Python 3",
   "language": "python",
   "name": "python3"
  },
  "language_info": {
   "codemirror_mode": {
    "name": "ipython",
    "version": 3
   },
   "file_extension": ".py",
   "mimetype": "text/x-python",
   "name": "python",
   "nbconvert_exporter": "python",
   "pygments_lexer": "ipython3",
   "version": "3.6.7"
  }
 },
 "nbformat": 4,
 "nbformat_minor": 2
}
